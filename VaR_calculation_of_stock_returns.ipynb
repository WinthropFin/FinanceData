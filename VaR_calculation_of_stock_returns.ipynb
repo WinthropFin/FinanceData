{
  "nbformat": 4,
  "nbformat_minor": 0,
  "metadata": {
    "colab": {
      "name": "VaR calculation of stock returns.ipynb",
      "provenance": [],
      "collapsed_sections": [],
      "authorship_tag": "ABX9TyOjDGxYAjid9UPAEvWcm/vS",
      "include_colab_link": true
    },
    "kernelspec": {
      "name": "python3",
      "display_name": "Python 3"
    },
    "language_info": {
      "name": "python"
    }
  },
  "cells": [
    {
      "cell_type": "markdown",
      "metadata": {
        "id": "view-in-github",
        "colab_type": "text"
      },
      "source": [
        "<a href=\"https://colab.research.google.com/github/WinthropFin/WinthropFinance/blob/master/VaR_calculation_of_stock_returns.ipynb\" target=\"_parent\"><img src=\"https://colab.research.google.com/assets/colab-badge.svg\" alt=\"Open In Colab\"/></a>"
      ]
    },
    {
      "cell_type": "code",
      "metadata": {
        "colab": {
          "base_uri": "https://localhost:8080/"
        },
        "id": "6hCldY36VtSV",
        "outputId": "4c88f1de-264f-48ad-ef8b-335773c2e6fe"
      },
      "source": [
        "!pip install quandl\n",
        "import pandas as pd\n",
        "import numpy as np\n",
        "import datetime\n",
        "import matplotlib.pyplot as plt\n",
        "from scipy import stats\n",
        "import quandl\n",
        "quandl.ApiConfig.api_key = \"zm2jjavJ-s6a5YbZygE3\""
      ],
      "execution_count": 23,
      "outputs": [
        {
          "output_type": "stream",
          "name": "stdout",
          "text": [
            "Requirement already satisfied: quandl in /usr/local/lib/python3.7/dist-packages (3.6.1)\n",
            "Requirement already satisfied: more-itertools in /usr/local/lib/python3.7/dist-packages (from quandl) (8.8.0)\n",
            "Requirement already satisfied: numpy>=1.8 in /usr/local/lib/python3.7/dist-packages (from quandl) (1.19.5)\n",
            "Requirement already satisfied: pandas>=0.14 in /usr/local/lib/python3.7/dist-packages (from quandl) (1.1.5)\n",
            "Requirement already satisfied: requests>=2.7.0 in /usr/local/lib/python3.7/dist-packages (from quandl) (2.23.0)\n",
            "Requirement already satisfied: inflection>=0.3.1 in /usr/local/lib/python3.7/dist-packages (from quandl) (0.5.1)\n",
            "Requirement already satisfied: six in /usr/local/lib/python3.7/dist-packages (from quandl) (1.15.0)\n",
            "Requirement already satisfied: python-dateutil in /usr/local/lib/python3.7/dist-packages (from quandl) (2.8.2)\n",
            "Requirement already satisfied: pytz>=2017.2 in /usr/local/lib/python3.7/dist-packages (from pandas>=0.14->quandl) (2018.9)\n",
            "Requirement already satisfied: urllib3!=1.25.0,!=1.25.1,<1.26,>=1.21.1 in /usr/local/lib/python3.7/dist-packages (from requests>=2.7.0->quandl) (1.24.3)\n",
            "Requirement already satisfied: certifi>=2017.4.17 in /usr/local/lib/python3.7/dist-packages (from requests>=2.7.0->quandl) (2021.5.30)\n",
            "Requirement already satisfied: chardet<4,>=3.0.2 in /usr/local/lib/python3.7/dist-packages (from requests>=2.7.0->quandl) (3.0.4)\n",
            "Requirement already satisfied: idna<3,>=2.5 in /usr/local/lib/python3.7/dist-packages (from requests>=2.7.0->quandl) (2.10)\n"
          ]
        }
      ]
    },
    {
      "cell_type": "code",
      "metadata": {
        "id": "L6RfJEC9VvU8"
      },
      "source": [
        "AAPL = quandl.get('EOD/AAPL', collapse = 'daily')"
      ],
      "execution_count": 24,
      "outputs": []
    },
    {
      "cell_type": "code",
      "metadata": {
        "colab": {
          "base_uri": "https://localhost:8080/",
          "height": 235
        },
        "id": "3sJBNUvHVvwr",
        "outputId": "6b8868bd-2b2b-4bcc-fae3-dcb0e486110b"
      },
      "source": [
        "AAPL.tail()"
      ],
      "execution_count": 25,
      "outputs": [
        {
          "output_type": "execute_result",
          "data": {
            "text/html": [
              "<div>\n",
              "<style scoped>\n",
              "    .dataframe tbody tr th:only-of-type {\n",
              "        vertical-align: middle;\n",
              "    }\n",
              "\n",
              "    .dataframe tbody tr th {\n",
              "        vertical-align: top;\n",
              "    }\n",
              "\n",
              "    .dataframe thead th {\n",
              "        text-align: right;\n",
              "    }\n",
              "</style>\n",
              "<table border=\"1\" class=\"dataframe\">\n",
              "  <thead>\n",
              "    <tr style=\"text-align: right;\">\n",
              "      <th></th>\n",
              "      <th>Open</th>\n",
              "      <th>High</th>\n",
              "      <th>Low</th>\n",
              "      <th>Close</th>\n",
              "      <th>Volume</th>\n",
              "      <th>Dividend</th>\n",
              "      <th>Split</th>\n",
              "      <th>Adj_Open</th>\n",
              "      <th>Adj_High</th>\n",
              "      <th>Adj_Low</th>\n",
              "      <th>Adj_Close</th>\n",
              "      <th>Adj_Volume</th>\n",
              "    </tr>\n",
              "    <tr>\n",
              "      <th>Date</th>\n",
              "      <th></th>\n",
              "      <th></th>\n",
              "      <th></th>\n",
              "      <th></th>\n",
              "      <th></th>\n",
              "      <th></th>\n",
              "      <th></th>\n",
              "      <th></th>\n",
              "      <th></th>\n",
              "      <th></th>\n",
              "      <th></th>\n",
              "      <th></th>\n",
              "    </tr>\n",
              "  </thead>\n",
              "  <tbody>\n",
              "    <tr>\n",
              "      <th>2017-12-21</th>\n",
              "      <td>174.17</td>\n",
              "      <td>176.020</td>\n",
              "      <td>174.100</td>\n",
              "      <td>175.01</td>\n",
              "      <td>20949896.0</td>\n",
              "      <td>0.0</td>\n",
              "      <td>1.0</td>\n",
              "      <td>41.703509</td>\n",
              "      <td>42.146476</td>\n",
              "      <td>41.686748</td>\n",
              "      <td>41.904640</td>\n",
              "      <td>83799584.0</td>\n",
              "    </tr>\n",
              "    <tr>\n",
              "      <th>2017-12-22</th>\n",
              "      <td>174.68</td>\n",
              "      <td>175.424</td>\n",
              "      <td>174.500</td>\n",
              "      <td>175.01</td>\n",
              "      <td>16349444.0</td>\n",
              "      <td>0.0</td>\n",
              "      <td>1.0</td>\n",
              "      <td>41.825624</td>\n",
              "      <td>42.003768</td>\n",
              "      <td>41.782525</td>\n",
              "      <td>41.904640</td>\n",
              "      <td>65397776.0</td>\n",
              "    </tr>\n",
              "    <tr>\n",
              "      <th>2017-12-26</th>\n",
              "      <td>170.80</td>\n",
              "      <td>171.470</td>\n",
              "      <td>169.679</td>\n",
              "      <td>170.57</td>\n",
              "      <td>33185536.0</td>\n",
              "      <td>0.0</td>\n",
              "      <td>1.0</td>\n",
              "      <td>40.896591</td>\n",
              "      <td>41.057017</td>\n",
              "      <td>40.628178</td>\n",
              "      <td>40.841520</td>\n",
              "      <td>132742144.0</td>\n",
              "    </tr>\n",
              "    <tr>\n",
              "      <th>2017-12-27</th>\n",
              "      <td>170.10</td>\n",
              "      <td>170.780</td>\n",
              "      <td>169.710</td>\n",
              "      <td>170.60</td>\n",
              "      <td>21498213.0</td>\n",
              "      <td>0.0</td>\n",
              "      <td>1.0</td>\n",
              "      <td>40.728982</td>\n",
              "      <td>40.891803</td>\n",
              "      <td>40.635600</td>\n",
              "      <td>40.848703</td>\n",
              "      <td>85992852.0</td>\n",
              "    </tr>\n",
              "    <tr>\n",
              "      <th>2017-12-28</th>\n",
              "      <td>171.00</td>\n",
              "      <td>171.850</td>\n",
              "      <td>170.480</td>\n",
              "      <td>171.08</td>\n",
              "      <td>16480187.0</td>\n",
              "      <td>0.0</td>\n",
              "      <td>1.0</td>\n",
              "      <td>40.944480</td>\n",
              "      <td>41.148005</td>\n",
              "      <td>40.819970</td>\n",
              "      <td>40.963635</td>\n",
              "      <td>65920748.0</td>\n",
              "    </tr>\n",
              "  </tbody>\n",
              "</table>\n",
              "</div>"
            ],
            "text/plain": [
              "              Open     High      Low  ...    Adj_Low  Adj_Close   Adj_Volume\n",
              "Date                                  ...                                   \n",
              "2017-12-21  174.17  176.020  174.100  ...  41.686748  41.904640   83799584.0\n",
              "2017-12-22  174.68  175.424  174.500  ...  41.782525  41.904640   65397776.0\n",
              "2017-12-26  170.80  171.470  169.679  ...  40.628178  40.841520  132742144.0\n",
              "2017-12-27  170.10  170.780  169.710  ...  40.635600  40.848703   85992852.0\n",
              "2017-12-28  171.00  171.850  170.480  ...  40.819970  40.963635   65920748.0\n",
              "\n",
              "[5 rows x 12 columns]"
            ]
          },
          "metadata": {},
          "execution_count": 25
        }
      ]
    },
    {
      "cell_type": "code",
      "metadata": {
        "colab": {
          "base_uri": "https://localhost:8080/"
        },
        "id": "ujtaMAteVxGL",
        "outputId": "5f7bde23-af99-41d7-f56f-07b86fbdea0e"
      },
      "source": [
        "rets_1 = (AAPL['Close']/AAPL['Close'].shift(1))-1\n",
        "rets_1.head()"
      ],
      "execution_count": 26,
      "outputs": [
        {
          "output_type": "execute_result",
          "data": {
            "text/plain": [
              "Date\n",
              "2013-09-03         NaN\n",
              "2013-09-04    0.020695\n",
              "2013-09-05   -0.006860\n",
              "2013-09-06    0.005956\n",
              "2013-09-09    0.015957\n",
              "Name: Close, dtype: float64"
            ]
          },
          "metadata": {},
          "execution_count": 26
        }
      ]
    },
    {
      "cell_type": "code",
      "metadata": {
        "colab": {
          "base_uri": "https://localhost:8080/"
        },
        "id": "EmWSRdnnVySq",
        "outputId": "ee215090-58c7-48bf-f010-3c9e23913618"
      },
      "source": [
        "mean = np.mean(rets_1)\n",
        "std = np.std(rets_1)\n",
        "Z_99 = stats.norm.ppf(1-0.99)\n",
        "price = AAPL.iloc[-1]['Close']\n",
        "x= np.linspace(mean - 3*std, mean + 3*std, 100)\n",
        "print(mean, std, Z_99, price)"
      ],
      "execution_count": 27,
      "outputs": [
        {
          "output_type": "stream",
          "name": "stdout",
          "text": [
            "0.00012614510101787468 0.02959836238274855 -2.3263478740408408 171.08\n"
          ]
        }
      ]
    },
    {
      "cell_type": "code",
      "metadata": {
        "colab": {
          "base_uri": "https://localhost:8080/",
          "height": 267
        },
        "id": "Wu-MtO4nVzsM",
        "outputId": "162f1e4a-afa3-48bd-b749-1d8d0bb408b0"
      },
      "source": [
        "plt.plot(x, stats.norm.pdf(x, mean, std))\n",
        "plt.show()"
      ],
      "execution_count": 28,
      "outputs": [
        {
          "output_type": "display_data",
          "data": {
            "image/png": "[encoded data removed]",
            "text/plain": [
              "<Figure size 432x288 with 1 Axes>"
            ]
          },
          "metadata": {
            "needs_background": "light"
          }
        }
      ]
    },
    {
      "cell_type": "code",
      "metadata": {
        "colab": {
          "base_uri": "https://localhost:8080/"
        },
        "id": "yHB6vTzVV0sc",
        "outputId": "ec75b755-db08-4c12-826a-854164d6ba1c"
      },
      "source": [
        "ParamVAR = price*Z_99*std\n",
        "HistVAR = price*np.percentile(rets_1.dropna(), 1)\n",
        "\n",
        "print('Parametric VAR is {0:.3f} and Historical VAR is {1:.3f}'\n",
        "      .format(ParamVAR, HistVAR))"
      ],
      "execution_count": 29,
      "outputs": [
        {
          "output_type": "stream",
          "name": "stdout",
          "text": [
            "Parametric VAR is -11.780 and Historical VAR is -6.704\n"
          ]
        }
      ]
    },
    {
      "cell_type": "markdown",
      "metadata": {
        "id": "XDdanM3vV3qm"
      },
      "source": [
        "# For Monte Carlo simulation, we simply apply a simulation using the assumptions of normality, and the mean and std computed above.\n"
      ]
    },
    {
      "cell_type": "code",
      "metadata": {
        "colab": {
          "base_uri": "https://localhost:8080/"
        },
        "id": "govrG7YyV6lC",
        "outputId": "ab26b78a-3365-4d5c-d8c8-0d83c4af8d43"
      },
      "source": [
        "np.random.seed(42)\n",
        "n_sims = 1000000\n",
        "sim_returns = np.random.normal(mean, std, n_sims)\n",
        "SimVAR = price*np.percentile(sim_returns, 1)\n",
        "print('Simulated VAR is ', SimVAR)"
      ],
      "execution_count": 30,
      "outputs": [
        {
          "output_type": "stream",
          "name": "stdout",
          "text": [
            "Simulated VAR is  -11.778152416832436\n"
          ]
        }
      ]
    },
    {
      "cell_type": "markdown",
      "metadata": {
        "id": "ClN2iDL4V_3i"
      },
      "source": [
        "## Historical return - bootstraping\n"
      ]
    },
    {
      "cell_type": "code",
      "metadata": {
        "id": "RrMcKZGKV8Ha"
      },
      "source": [
        "import numpy as np\n",
        "import pandas as pd\n",
        "import quandl\n",
        "import matplotlib.pyplot as plt\n",
        " \n",
        "quandl.ApiConfig.api_key = \"zm2jjavJ-s6a5YbZygE3\"\n",
        " \n",
        "symbols = [\"WIKI/AAPL.4\"]\n",
        "data = quandl.get(symbols, start_date=\"2015-12-31\", end_date=\"2017-10-31\", collapse=\"daily\")\n",
        "rets = data.pct_change()\n",
        "rets = rets[1:]\n",
        "price = AAPL.iloc[-1]['Close'] \n",
        "daily_vol = rets.std()\n",
        "daily_ret = rets.mean()\n",
        "    \n",
        "simulation_df = pd.DataFrame()\n",
        " \n",
        "num_simulations = 10000\n",
        "predicted_days = 252\n",
        " \n",
        "last_price = data.iloc[-1:,0]\n",
        "last_price = last_price[0]"
      ],
      "execution_count": 31,
      "outputs": []
    },
    {
      "cell_type": "code",
      "metadata": {
        "colab": {
          "base_uri": "https://localhost:8080/"
        },
        "id": "-xIuqhCtV_XD",
        "outputId": "fd5901a9-4fd5-4fdd-f127-97b8b0acb5a9"
      },
      "source": [
        "# estimate mean and std\n",
        "retMean = np.mean(rets)\n",
        "retStd = np.std(rets)\n",
        "nsamp = len(rets)\n",
        "# define price one day in future\n",
        "pFut = price*(1.+rets)\n",
        "\n",
        "# VaR probability level\n",
        "p = 0.05\n",
        "# Historical VaR\n",
        "PStar = np.percentile(pFut,100*p)\n",
        "VaRHist = price-PStar\n",
        "\n",
        "print(retMean, retStd, nsamp, PStar,price, VaRHist)"
      ],
      "execution_count": 32,
      "outputs": [
        {
          "output_type": "stream",
          "name": "stdout",
          "text": [
            "WIKI/AAPL - Close    0.001116\n",
            "dtype: float64 WIKI/AAPL - Close    0.013275\n",
            "dtype: float64 461 167.3889704142012 171.08 3.691029585798816\n"
          ]
        }
      ]
    },
    {
      "cell_type": "markdown",
      "metadata": {
        "id": "-nUGbqzpWD-O"
      },
      "source": [
        "## The code below draws 1000 times from the return sample with replacement and calculated the possible price change from lastest price to predict the future¶\n"
      ]
    },
    {
      "cell_type": "code",
      "metadata": {
        "colab": {
          "base_uri": "https://localhost:8080/"
        },
        "id": "UBBASAoxWCja",
        "outputId": "01611cc8-755b-4351-a97c-ef43e7eae306"
      },
      "source": [
        "ret = rets.iloc[:,0]\n",
        "nboot = 1000\n",
        "VaRDist = np.zeros(nboot)\n",
        "\n",
        "for trial in range(nboot):\n",
        "    retsim = np.random.choice(ret,size=nsamp)\n",
        "    pFut = price*(1+retsim)\n",
        "    PStar = np.percentile(pFut,100.*p)\n",
        "    VaRDist[trial] = price-PStar\n",
        "\n",
        "# Percentile method\n",
        "confBand = np.percentile(VaRDist,(2.5,97.5))\n",
        "fmt = \"%6.4f %6.4f %6.4f\"\n",
        "print(fmt%(confBand[0], VaRHist, confBand[1]))\n",
        "\n",
        "# Normal approximation\n",
        "VaRStd = np.std(VaRDist)\n",
        "a1 = stats.norm.ppf(0.025)\n",
        "a2 = stats.norm.ppf(0.975)\n",
        "    \n",
        "fmt = \"%6.4f %6.4f %6.4f\"\n",
        "print(fmt%(VaRHist+a1*VaRStd, VaRHist, VaRHist+a2*VaRStd))\n",
        "\n",
        "# Bootstrap summary\n",
        "print(stats.describe(VaRDist))"
      ],
      "execution_count": 33,
      "outputs": [
        {
          "output_type": "stream",
          "name": "stdout",
          "text": [
            "2.8508 3.6910 4.1085\n",
            "3.0385 3.6910 4.3436\n",
            "DescribeResult(nobs=1000, minmax=(2.491100642398294, 4.39851540616246), mean=3.591171786456287, variance=0.11096491869958434, skewness=-0.4761915227706666, kurtosis=-0.12097952778303922)\n"
          ]
        }
      ]
    },
    {
      "cell_type": "markdown",
      "metadata": {
        "id": "nKCFfxYgWH3o"
      },
      "source": [
        "## Single asset Var calculation\n"
      ]
    },
    {
      "cell_type": "code",
      "metadata": {
        "colab": {
          "base_uri": "https://localhost:8080/",
          "height": 235
        },
        "id": "7cwt5J7XWGWy",
        "outputId": "67497631-7493-4fe6-ffb4-3a6cd9d9e45e"
      },
      "source": [
        "symbol = \"WIKI/AAPL.4\"\n",
        "data = quandl.get(symbol, start_date=\"2015-12-31\", end_date=\"2017-10-31\", collapse=\"daily\")\n",
        "data.head()    \n",
        "    "
      ],
      "execution_count": 34,
      "outputs": [
        {
          "output_type": "execute_result",
          "data": {
            "text/html": [
              "<div>\n",
              "<style scoped>\n",
              "    .dataframe tbody tr th:only-of-type {\n",
              "        vertical-align: middle;\n",
              "    }\n",
              "\n",
              "    .dataframe tbody tr th {\n",
              "        vertical-align: top;\n",
              "    }\n",
              "\n",
              "    .dataframe thead th {\n",
              "        text-align: right;\n",
              "    }\n",
              "</style>\n",
              "<table border=\"1\" class=\"dataframe\">\n",
              "  <thead>\n",
              "    <tr style=\"text-align: right;\">\n",
              "      <th></th>\n",
              "      <th>Close</th>\n",
              "    </tr>\n",
              "    <tr>\n",
              "      <th>Date</th>\n",
              "      <th></th>\n",
              "    </tr>\n",
              "  </thead>\n",
              "  <tbody>\n",
              "    <tr>\n",
              "      <th>2015-12-31</th>\n",
              "      <td>105.26</td>\n",
              "    </tr>\n",
              "    <tr>\n",
              "      <th>2016-01-04</th>\n",
              "      <td>105.35</td>\n",
              "    </tr>\n",
              "    <tr>\n",
              "      <th>2016-01-05</th>\n",
              "      <td>102.71</td>\n",
              "    </tr>\n",
              "    <tr>\n",
              "      <th>2016-01-06</th>\n",
              "      <td>100.70</td>\n",
              "    </tr>\n",
              "    <tr>\n",
              "      <th>2016-01-07</th>\n",
              "      <td>96.45</td>\n",
              "    </tr>\n",
              "  </tbody>\n",
              "</table>\n",
              "</div>"
            ],
            "text/plain": [
              "             Close\n",
              "Date              \n",
              "2015-12-31  105.26\n",
              "2016-01-04  105.35\n",
              "2016-01-05  102.71\n",
              "2016-01-06  100.70\n",
              "2016-01-07   96.45"
            ]
          },
          "metadata": {},
          "execution_count": 34
        }
      ]
    },
    {
      "cell_type": "code",
      "metadata": {
        "id": "4MCWfAZCWJ6y"
      },
      "source": [
        "def single_asset_var():\n",
        "    #Get data from quandl\n",
        "\n",
        "    #Calculate returns\n",
        "    rets = data.pct_change()\n",
        "    rets = rets.dropna(how='any') \n",
        "    \n",
        "    #Sort Returns in Ascending Order\n",
        "    sorted_rets = sorted(rets[\"Close\"])\n",
        "    \n",
        "    varg = np.percentile(sorted_rets, 5)\n",
        "    \n",
        "    #Output histogram\n",
        "    plt.hist(sorted_rets)\n",
        "    plt.xlabel('Returns')\n",
        "    plt.ylabel('Frequency')\n",
        "    plt.title(r'Histogram of Asset Returns', fontsize=18, fontweight='bold')\n",
        "    plt.axvline(x=varg, color='r', linestyle='--', label='95% Confidence VaR: ' + \"{0:.2f}%\".format(varg * 100))\n",
        "    plt.legend(loc='upper right', fontsize = 'x-small')\n",
        "    plt.show()\n",
        "    \n",
        "    #VaR stats\n",
        "    print(\"99.99% Confident the actual loss will not exceed: \" , \"{0:.2f}%\".format(np.percentile(sorted_rets, .01) * 100))\n",
        "    print(\"99% Confident the actual loss will not exceed: \" + \"{0:.2f}%\".format(np.percentile(sorted_rets, 1) * 100))\n",
        "    print(\"95% Confident the actual loss will not exceed: \" + \"{0:.2f}%\".format(np.percentile(sorted_rets, 5) * 100))\n",
        "\n",
        "    print(\"Losses expected to exceed \" + \"{0:.2f}%\".format(np.percentile(sorted_rets, 5) * 100) + \" \" + str(.05*len(rets)) + \" out of \" + str(len(rets)) + \" days\")"
      ],
      "execution_count": 35,
      "outputs": []
    },
    {
      "cell_type": "code",
      "metadata": {
        "colab": {
          "base_uri": "https://localhost:8080/",
          "height": 367
        },
        "id": "z0oItYF0WOBK",
        "outputId": "6477cc6d-7a07-4a2f-9dec-76c02d58b088"
      },
      "source": [
        "single_asset_var()"
      ],
      "execution_count": 36,
      "outputs": [
        {
          "output_type": "display_data",
          "data": {
            "image/png": "[encoded data removed]",
            "text/plain": [
              "<Figure size 432x288 with 1 Axes>"
            ]
          },
          "metadata": {
            "needs_background": "light"
          }
        },
        {
          "output_type": "stream",
          "name": "stdout",
          "text": [
            "99.99% Confident the actual loss will not exceed:  -6.56%\n",
            "99% Confident the actual loss will not exceed: -3.45%\n",
            "95% Confident the actual loss will not exceed: -2.16%\n",
            "Losses expected to exceed -2.16% 23.05 out of 461 days\n"
          ]
        }
      ]
    },
    {
      "cell_type": "code",
      "metadata": {
        "id": "LGhjr7RUWPGS"
      },
      "source": [
        ""
      ],
      "execution_count": 36,
      "outputs": []
    }
  ]
}
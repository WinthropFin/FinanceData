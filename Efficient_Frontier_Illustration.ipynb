{
  "nbformat": 4,
  "nbformat_minor": 0,
  "metadata": {
    "colab": {
      "name": "Efficient Frontier Illustration.ipynb",
      "provenance": [],
      "authorship_tag": "ABX9TyP9eVQjqUr0IwM2jShil5KD",
      "include_colab_link": true
    },
    "kernelspec": {
      "name": "python3",
      "display_name": "Python 3"
    }
  },
  "cells": [
    {
      "cell_type": "markdown",
      "metadata": {
        "id": "view-in-github",
        "colab_type": "text"
      },
      "source": [
        "<a href=\"https://colab.research.google.com/github/WinthropFin/WinthropFinance/blob/master/Efficient_Frontier_Illustration.ipynb\" target=\"_parent\"><img src=\"https://colab.research.google.com/assets/colab-badge.svg\" alt=\"Open In Colab\"/></a>"
      ]
    },
    {
      "cell_type": "code",
      "metadata": {
        "colab": {
          "base_uri": "https://localhost:8080/"
        },
        "id": "yLv4aROtOLhF",
        "outputId": "e67855bb-7d64-4a85-f299-5ece8388310a"
      },
      "source": [
        "import math\n",
        "import numpy as np\n",
        "import scipy.stats as scs\n",
        "import statsmodels.api as sm\n",
        "import pandas as pd\n",
        "from pylab import mpl, plt"
      ],
      "execution_count": null,
      "outputs": [
        {
          "output_type": "stream",
          "name": "stderr",
          "text": [
            "/usr/local/lib/python3.7/dist-packages/statsmodels/tools/_testing.py:19: FutureWarning: pandas.util.testing is deprecated. Use the functions in the public API at pandas.testing instead.\n",
            "  import pandas.util.testing as tm\n"
          ]
        }
      ]
    },
    {
      "cell_type": "code",
      "metadata": {
        "id": "XJf5vVBlO2Lb"
      },
      "source": [
        "plt.style.use('seaborn')\n",
        "mpl.rcParams['font.family'] = 'serif'\n",
        "%matplotlib inline"
      ],
      "execution_count": null,
      "outputs": []
    },
    {
      "cell_type": "code",
      "metadata": {
        "colab": {
          "base_uri": "https://localhost:8080/",
          "height": 35
        },
        "id": "9U9Zv61gPBNp",
        "outputId": "52bc9cd4-fad9-4970-9b5c-097f4da0d184"
      },
      "source": [
        "import os\n",
        "os.getcwd()"
      ],
      "execution_count": null,
      "outputs": [
        {
          "output_type": "execute_result",
          "data": {
            "application/vnd.google.colaboratory.intrinsic+json": {
              "type": "string"
            },
            "text/plain": [
              "'/content'"
            ]
          },
          "metadata": {},
          "execution_count": 3
        }
      ]
    },
    {
      "cell_type": "code",
      "metadata": {
        "colab": {
          "base_uri": "https://localhost:8080/",
          "height": 238
        },
        "id": "lXYzQkToO3vi",
        "outputId": "0e4219ef-1441-4bd2-9404-70c950a66d54"
      },
      "source": [
        "raw = pd.read_csv('https://raw.githubusercontent.com/cozywind2010/WinthropFinance/master/tr_eikon_eod_data.csv',\n",
        "                 index_col=0, parse_dates=True)\n",
        "raw.head()"
      ],
      "execution_count": null,
      "outputs": [
        {
          "output_type": "execute_result",
          "data": {
            "text/html": [
              "\n",
              "  <div id=\"df-4c700d93-2fcf-4581-a797-3ed19ea62e48\">\n",
              "    <div class=\"colab-df-container\">\n",
              "      <div>\n",
              "<style scoped>\n",
              "    .dataframe tbody tr th:only-of-type {\n",
              "        vertical-align: middle;\n",
              "    }\n",
              "\n",
              "    .dataframe tbody tr th {\n",
              "        vertical-align: top;\n",
              "    }\n",
              "\n",
              "    .dataframe thead th {\n",
              "        text-align: right;\n",
              "    }\n",
              "</style>\n",
              "<table border=\"1\" class=\"dataframe\">\n",
              "  <thead>\n",
              "    <tr style=\"text-align: right;\">\n",
              "      <th></th>\n",
              "      <th>AAPL.O</th>\n",
              "      <th>MSFT.O</th>\n",
              "      <th>INTC.O</th>\n",
              "      <th>AMZN.O</th>\n",
              "      <th>GS.N</th>\n",
              "      <th>SPY</th>\n",
              "      <th>.SPX</th>\n",
              "      <th>.VIX</th>\n",
              "      <th>EUR=</th>\n",
              "      <th>XAU=</th>\n",
              "      <th>GDX</th>\n",
              "      <th>GLD</th>\n",
              "    </tr>\n",
              "    <tr>\n",
              "      <th>Date</th>\n",
              "      <th></th>\n",
              "      <th></th>\n",
              "      <th></th>\n",
              "      <th></th>\n",
              "      <th></th>\n",
              "      <th></th>\n",
              "      <th></th>\n",
              "      <th></th>\n",
              "      <th></th>\n",
              "      <th></th>\n",
              "      <th></th>\n",
              "      <th></th>\n",
              "    </tr>\n",
              "  </thead>\n",
              "  <tbody>\n",
              "    <tr>\n",
              "      <th>2010-01-01</th>\n",
              "      <td>NaN</td>\n",
              "      <td>NaN</td>\n",
              "      <td>NaN</td>\n",
              "      <td>NaN</td>\n",
              "      <td>NaN</td>\n",
              "      <td>NaN</td>\n",
              "      <td>NaN</td>\n",
              "      <td>NaN</td>\n",
              "      <td>1.4323</td>\n",
              "      <td>1096.35</td>\n",
              "      <td>NaN</td>\n",
              "      <td>NaN</td>\n",
              "    </tr>\n",
              "    <tr>\n",
              "      <th>2010-01-04</th>\n",
              "      <td>30.572827</td>\n",
              "      <td>30.950</td>\n",
              "      <td>20.88</td>\n",
              "      <td>133.90</td>\n",
              "      <td>173.08</td>\n",
              "      <td>113.33</td>\n",
              "      <td>1132.99</td>\n",
              "      <td>20.04</td>\n",
              "      <td>1.4411</td>\n",
              "      <td>1120.00</td>\n",
              "      <td>47.71</td>\n",
              "      <td>109.80</td>\n",
              "    </tr>\n",
              "    <tr>\n",
              "      <th>2010-01-05</th>\n",
              "      <td>30.625684</td>\n",
              "      <td>30.960</td>\n",
              "      <td>20.87</td>\n",
              "      <td>134.69</td>\n",
              "      <td>176.14</td>\n",
              "      <td>113.63</td>\n",
              "      <td>1136.52</td>\n",
              "      <td>19.35</td>\n",
              "      <td>1.4368</td>\n",
              "      <td>1118.65</td>\n",
              "      <td>48.17</td>\n",
              "      <td>109.70</td>\n",
              "    </tr>\n",
              "    <tr>\n",
              "      <th>2010-01-06</th>\n",
              "      <td>30.138541</td>\n",
              "      <td>30.770</td>\n",
              "      <td>20.80</td>\n",
              "      <td>132.25</td>\n",
              "      <td>174.26</td>\n",
              "      <td>113.71</td>\n",
              "      <td>1137.14</td>\n",
              "      <td>19.16</td>\n",
              "      <td>1.4412</td>\n",
              "      <td>1138.50</td>\n",
              "      <td>49.34</td>\n",
              "      <td>111.51</td>\n",
              "    </tr>\n",
              "    <tr>\n",
              "      <th>2010-01-07</th>\n",
              "      <td>30.082827</td>\n",
              "      <td>30.452</td>\n",
              "      <td>20.60</td>\n",
              "      <td>130.00</td>\n",
              "      <td>177.67</td>\n",
              "      <td>114.19</td>\n",
              "      <td>1141.69</td>\n",
              "      <td>19.06</td>\n",
              "      <td>1.4318</td>\n",
              "      <td>1131.90</td>\n",
              "      <td>49.10</td>\n",
              "      <td>110.82</td>\n",
              "    </tr>\n",
              "  </tbody>\n",
              "</table>\n",
              "</div>\n",
              "      <button class=\"colab-df-convert\" onclick=\"convertToInteractive('df-4c700d93-2fcf-4581-a797-3ed19ea62e48')\"\n",
              "              title=\"Convert this dataframe to an interactive table.\"\n",
              "              style=\"display:none;\">\n",
              "        \n",
              "  <svg xmlns=\"http://www.w3.org/2000/svg\" height=\"24px\"viewBox=\"0 0 24 24\"\n",
              "       width=\"24px\">\n",
              "    <path d=\"M0 0h24v24H0V0z\" fill=\"none\"/>\n",
              "    <path d=\"M18.56 5.44l.94 2.06.94-2.06 2.06-.94-2.06-.94-.94-2.06-.94 2.06-2.06.94zm-11 1L8.5 8.5l.94-2.06 2.06-.94-2.06-.94L8.5 2.5l-.94 2.06-2.06.94zm10 10l.94 2.06.94-2.06 2.06-.94-2.06-.94-.94-2.06-.94 2.06-2.06.94z\"/><path d=\"M17.41 7.96l-1.37-1.37c-.4-.4-.92-.59-1.43-.59-.52 0-1.04.2-1.43.59L10.3 9.45l-7.72 7.72c-.78.78-.78 2.05 0 2.83L4 21.41c.39.39.9.59 1.41.59.51 0 1.02-.2 1.41-.59l7.78-7.78 2.81-2.81c.8-.78.8-2.07 0-2.86zM5.41 20L4 18.59l7.72-7.72 1.47 1.35L5.41 20z\"/>\n",
              "  </svg>\n",
              "      </button>\n",
              "      \n",
              "  <style>\n",
              "    .colab-df-container {\n",
              "      display:flex;\n",
              "      flex-wrap:wrap;\n",
              "      gap: 12px;\n",
              "    }\n",
              "\n",
              "    .colab-df-convert {\n",
              "      background-color: #E8F0FE;\n",
              "      border: none;\n",
              "      border-radius: 50%;\n",
              "      cursor: pointer;\n",
              "      display: none;\n",
              "      fill: #1967D2;\n",
              "      height: 32px;\n",
              "      padding: 0 0 0 0;\n",
              "      width: 32px;\n",
              "    }\n",
              "\n",
              "    .colab-df-convert:hover {\n",
              "      background-color: #E2EBFA;\n",
              "      box-shadow: 0px 1px 2px rgba(60, 64, 67, 0.3), 0px 1px 3px 1px rgba(60, 64, 67, 0.15);\n",
              "      fill: #174EA6;\n",
              "    }\n",
              "\n",
              "    [theme=dark] .colab-df-convert {\n",
              "      background-color: #3B4455;\n",
              "      fill: #D2E3FC;\n",
              "    }\n",
              "\n",
              "    [theme=dark] .colab-df-convert:hover {\n",
              "      background-color: #434B5C;\n",
              "      box-shadow: 0px 1px 3px 1px rgba(0, 0, 0, 0.15);\n",
              "      filter: drop-shadow(0px 1px 2px rgba(0, 0, 0, 0.3));\n",
              "      fill: #FFFFFF;\n",
              "    }\n",
              "  </style>\n",
              "\n",
              "      <script>\n",
              "        const buttonEl =\n",
              "          document.querySelector('#df-4c700d93-2fcf-4581-a797-3ed19ea62e48 button.colab-df-convert');\n",
              "        buttonEl.style.display =\n",
              "          google.colab.kernel.accessAllowed ? 'block' : 'none';\n",
              "\n",
              "        async function convertToInteractive(key) {\n",
              "          const element = document.querySelector('#df-4c700d93-2fcf-4581-a797-3ed19ea62e48');\n",
              "          const dataTable =\n",
              "            await google.colab.kernel.invokeFunction('convertToInteractive',\n",
              "                                                     [key], {});\n",
              "          if (!dataTable) return;\n",
              "\n",
              "          const docLinkHtml = 'Like what you see? Visit the ' +\n",
              "            '<a target=\"_blank\" href=https://colab.research.google.com/notebooks/data_table.ipynb>data table notebook</a>'\n",
              "            + ' to learn more about interactive tables.';\n",
              "          element.innerHTML = '';\n",
              "          dataTable['output_type'] = 'display_data';\n",
              "          await google.colab.output.renderOutput(dataTable, element);\n",
              "          const docLink = document.createElement('div');\n",
              "          docLink.innerHTML = docLinkHtml;\n",
              "          element.appendChild(docLink);\n",
              "        }\n",
              "      </script>\n",
              "    </div>\n",
              "  </div>\n",
              "  "
            ],
            "text/plain": [
              "               AAPL.O  MSFT.O  INTC.O  AMZN.O    GS.N     SPY     .SPX   .VIX  \\\n",
              "Date                                                                            \n",
              "2010-01-01        NaN     NaN     NaN     NaN     NaN     NaN      NaN    NaN   \n",
              "2010-01-04  30.572827  30.950   20.88  133.90  173.08  113.33  1132.99  20.04   \n",
              "2010-01-05  30.625684  30.960   20.87  134.69  176.14  113.63  1136.52  19.35   \n",
              "2010-01-06  30.138541  30.770   20.80  132.25  174.26  113.71  1137.14  19.16   \n",
              "2010-01-07  30.082827  30.452   20.60  130.00  177.67  114.19  1141.69  19.06   \n",
              "\n",
              "              EUR=     XAU=    GDX     GLD  \n",
              "Date                                        \n",
              "2010-01-01  1.4323  1096.35    NaN     NaN  \n",
              "2010-01-04  1.4411  1120.00  47.71  109.80  \n",
              "2010-01-05  1.4368  1118.65  48.17  109.70  \n",
              "2010-01-06  1.4412  1138.50  49.34  111.51  \n",
              "2010-01-07  1.4318  1131.90  49.10  110.82  "
            ]
          },
          "metadata": {},
          "execution_count": 4
        }
      ]
    },
    {
      "cell_type": "code",
      "metadata": {
        "colab": {
          "base_uri": "https://localhost:8080/",
          "height": 585
        },
        "id": "kdB1hX0WO4zC",
        "outputId": "9cfe4150-92d7-486a-f754-eecca49142a6"
      },
      "source": [
        "symbols = ['AAPL.O', 'MSFT.O', 'SPY', 'GLD']\n",
        "noa = len(symbols)\n",
        "data = raw[symbols]\n",
        "rets = np.log(data / data.shift(1))\n",
        "rets.hist(bins=40, figsize=(10, 8)) "
      ],
      "execution_count": null,
      "outputs": [
        {
          "output_type": "execute_result",
          "data": {
            "text/plain": [
              "array([[<matplotlib.axes._subplots.AxesSubplot object at 0x7f6be5ce1ed0>,\n",
              "        <matplotlib.axes._subplots.AxesSubplot object at 0x7f6be5c4a5d0>],\n",
              "       [<matplotlib.axes._subplots.AxesSubplot object at 0x7f6be5c01bd0>,\n",
              "        <matplotlib.axes._subplots.AxesSubplot object at 0x7f6be5bc5210>]],\n",
              "      dtype=object)"
            ]
          },
          "metadata": {},
          "execution_count": 5
        },
        {
          "output_type": "display_data",
          "data": {
            "image/png": "[encoded data removed]",
            "text/plain": [
              "<Figure size 720x576 with 4 Axes>"
            ]
          },
          "metadata": {
            "needs_background": "light"
          }
        }
      ]
    },
    {
      "cell_type": "code",
      "metadata": {
        "colab": {
          "base_uri": "https://localhost:8080/"
        },
        "id": "EWxN7G3LPbJT",
        "outputId": "01402ebf-45f0-4239-81fc-5b55abe24bc2"
      },
      "source": [
        "rets.mean() * 252"
      ],
      "execution_count": null,
      "outputs": [
        {
          "output_type": "execute_result",
          "data": {
            "text/plain": [
              "AAPL.O    0.181303\n",
              "MSFT.O    0.124840\n",
              "SPY       0.097286\n",
              "GLD      -0.003784\n",
              "dtype: float64"
            ]
          },
          "metadata": {},
          "execution_count": 6
        }
      ]
    },
    {
      "cell_type": "code",
      "metadata": {
        "colab": {
          "base_uri": "https://localhost:8080/",
          "height": 175
        },
        "id": "5fG4DKpbPg6W",
        "outputId": "45261c18-9a2d-4357-aca4-c0310bbf6d52"
      },
      "source": [
        "rets.cov() * 252"
      ],
      "execution_count": null,
      "outputs": [
        {
          "output_type": "execute_result",
          "data": {
            "text/html": [
              "\n",
              "  <div id=\"df-2e70a371-48ae-443b-9215-00e76fbde9b3\">\n",
              "    <div class=\"colab-df-container\">\n",
              "      <div>\n",
              "<style scoped>\n",
              "    .dataframe tbody tr th:only-of-type {\n",
              "        vertical-align: middle;\n",
              "    }\n",
              "\n",
              "    .dataframe tbody tr th {\n",
              "        vertical-align: top;\n",
              "    }\n",
              "\n",
              "    .dataframe thead th {\n",
              "        text-align: right;\n",
              "    }\n",
              "</style>\n",
              "<table border=\"1\" class=\"dataframe\">\n",
              "  <thead>\n",
              "    <tr style=\"text-align: right;\">\n",
              "      <th></th>\n",
              "      <th>AAPL.O</th>\n",
              "      <th>MSFT.O</th>\n",
              "      <th>SPY</th>\n",
              "      <th>GLD</th>\n",
              "    </tr>\n",
              "  </thead>\n",
              "  <tbody>\n",
              "    <tr>\n",
              "      <th>AAPL.O</th>\n",
              "      <td>0.064034</td>\n",
              "      <td>0.023656</td>\n",
              "      <td>0.021154</td>\n",
              "      <td>0.001428</td>\n",
              "    </tr>\n",
              "    <tr>\n",
              "      <th>MSFT.O</th>\n",
              "      <td>0.023656</td>\n",
              "      <td>0.051211</td>\n",
              "      <td>0.022390</td>\n",
              "      <td>-0.000370</td>\n",
              "    </tr>\n",
              "    <tr>\n",
              "      <th>SPY</th>\n",
              "      <td>0.021154</td>\n",
              "      <td>0.022390</td>\n",
              "      <td>0.022049</td>\n",
              "      <td>0.000108</td>\n",
              "    </tr>\n",
              "    <tr>\n",
              "      <th>GLD</th>\n",
              "      <td>0.001428</td>\n",
              "      <td>-0.000370</td>\n",
              "      <td>0.000108</td>\n",
              "      <td>0.025945</td>\n",
              "    </tr>\n",
              "  </tbody>\n",
              "</table>\n",
              "</div>\n",
              "      <button class=\"colab-df-convert\" onclick=\"convertToInteractive('df-2e70a371-48ae-443b-9215-00e76fbde9b3')\"\n",
              "              title=\"Convert this dataframe to an interactive table.\"\n",
              "              style=\"display:none;\">\n",
              "        \n",
              "  <svg xmlns=\"http://www.w3.org/2000/svg\" height=\"24px\"viewBox=\"0 0 24 24\"\n",
              "       width=\"24px\">\n",
              "    <path d=\"M0 0h24v24H0V0z\" fill=\"none\"/>\n",
              "    <path d=\"M18.56 5.44l.94 2.06.94-2.06 2.06-.94-2.06-.94-.94-2.06-.94 2.06-2.06.94zm-11 1L8.5 8.5l.94-2.06 2.06-.94-2.06-.94L8.5 2.5l-.94 2.06-2.06.94zm10 10l.94 2.06.94-2.06 2.06-.94-2.06-.94-.94-2.06-.94 2.06-2.06.94z\"/><path d=\"M17.41 7.96l-1.37-1.37c-.4-.4-.92-.59-1.43-.59-.52 0-1.04.2-1.43.59L10.3 9.45l-7.72 7.72c-.78.78-.78 2.05 0 2.83L4 21.41c.39.39.9.59 1.41.59.51 0 1.02-.2 1.41-.59l7.78-7.78 2.81-2.81c.8-.78.8-2.07 0-2.86zM5.41 20L4 18.59l7.72-7.72 1.47 1.35L5.41 20z\"/>\n",
              "  </svg>\n",
              "      </button>\n",
              "      \n",
              "  <style>\n",
              "    .colab-df-container {\n",
              "      display:flex;\n",
              "      flex-wrap:wrap;\n",
              "      gap: 12px;\n",
              "    }\n",
              "\n",
              "    .colab-df-convert {\n",
              "      background-color: #E8F0FE;\n",
              "      border: none;\n",
              "      border-radius: 50%;\n",
              "      cursor: pointer;\n",
              "      display: none;\n",
              "      fill: #1967D2;\n",
              "      height: 32px;\n",
              "      padding: 0 0 0 0;\n",
              "      width: 32px;\n",
              "    }\n",
              "\n",
              "    .colab-df-convert:hover {\n",
              "      background-color: #E2EBFA;\n",
              "      box-shadow: 0px 1px 2px rgba(60, 64, 67, 0.3), 0px 1px 3px 1px rgba(60, 64, 67, 0.15);\n",
              "      fill: #174EA6;\n",
              "    }\n",
              "\n",
              "    [theme=dark] .colab-df-convert {\n",
              "      background-color: #3B4455;\n",
              "      fill: #D2E3FC;\n",
              "    }\n",
              "\n",
              "    [theme=dark] .colab-df-convert:hover {\n",
              "      background-color: #434B5C;\n",
              "      box-shadow: 0px 1px 3px 1px rgba(0, 0, 0, 0.15);\n",
              "      filter: drop-shadow(0px 1px 2px rgba(0, 0, 0, 0.3));\n",
              "      fill: #FFFFFF;\n",
              "    }\n",
              "  </style>\n",
              "\n",
              "      <script>\n",
              "        const buttonEl =\n",
              "          document.querySelector('#df-2e70a371-48ae-443b-9215-00e76fbde9b3 button.colab-df-convert');\n",
              "        buttonEl.style.display =\n",
              "          google.colab.kernel.accessAllowed ? 'block' : 'none';\n",
              "\n",
              "        async function convertToInteractive(key) {\n",
              "          const element = document.querySelector('#df-2e70a371-48ae-443b-9215-00e76fbde9b3');\n",
              "          const dataTable =\n",
              "            await google.colab.kernel.invokeFunction('convertToInteractive',\n",
              "                                                     [key], {});\n",
              "          if (!dataTable) return;\n",
              "\n",
              "          const docLinkHtml = 'Like what you see? Visit the ' +\n",
              "            '<a target=\"_blank\" href=https://colab.research.google.com/notebooks/data_table.ipynb>data table notebook</a>'\n",
              "            + ' to learn more about interactive tables.';\n",
              "          element.innerHTML = '';\n",
              "          dataTable['output_type'] = 'display_data';\n",
              "          await google.colab.output.renderOutput(dataTable, element);\n",
              "          const docLink = document.createElement('div');\n",
              "          docLink.innerHTML = docLinkHtml;\n",
              "          element.appendChild(docLink);\n",
              "        }\n",
              "      </script>\n",
              "    </div>\n",
              "  </div>\n",
              "  "
            ],
            "text/plain": [
              "          AAPL.O    MSFT.O       SPY       GLD\n",
              "AAPL.O  0.064034  0.023656  0.021154  0.001428\n",
              "MSFT.O  0.023656  0.051211  0.022390 -0.000370\n",
              "SPY     0.021154  0.022390  0.022049  0.000108\n",
              "GLD     0.001428 -0.000370  0.000108  0.025945"
            ]
          },
          "metadata": {},
          "execution_count": 7
        }
      ]
    },
    {
      "cell_type": "code",
      "metadata": {
        "colab": {
          "base_uri": "https://localhost:8080/"
        },
        "id": "FrJDZyg2PhxO",
        "outputId": "29dad43d-bbc6-40f0-a953-7682e5aafd1c"
      },
      "source": [
        "weights = np.random.random(noa)  \n",
        "weights /= np.sum(weights) \n",
        "weights"
      ],
      "execution_count": null,
      "outputs": [
        {
          "output_type": "execute_result",
          "data": {
            "text/plain": [
              "array([0.42581969, 0.19420457, 0.17983288, 0.20014286])"
            ]
          },
          "metadata": {},
          "execution_count": 8
        }
      ]
    },
    {
      "cell_type": "code",
      "metadata": {
        "colab": {
          "base_uri": "https://localhost:8080/"
        },
        "id": "rH8QFjZVPi5X",
        "outputId": "0117066d-c9e1-4266-982e-cb1e2d53c1bc"
      },
      "source": [
        "weights.sum()"
      ],
      "execution_count": null,
      "outputs": [
        {
          "output_type": "execute_result",
          "data": {
            "text/plain": [
              "0.9999999999999999"
            ]
          },
          "metadata": {},
          "execution_count": 9
        }
      ]
    },
    {
      "cell_type": "code",
      "metadata": {
        "id": "0AdcKMQ0PltY"
      },
      "source": [
        "def port_ret(weights):\n",
        "    return np.sum(rets.mean() * weights) * 252"
      ],
      "execution_count": null,
      "outputs": []
    },
    {
      "cell_type": "code",
      "metadata": {
        "id": "0dQ-2nH9PnvR"
      },
      "source": [
        "def port_vol(weights):\n",
        "    return np.sqrt(np.dot(weights.T, np.dot(rets.cov() * 252, weights)))"
      ],
      "execution_count": null,
      "outputs": []
    },
    {
      "cell_type": "code",
      "metadata": {
        "id": "O6B0QeV3PpH6"
      },
      "source": [
        "prets = []\n",
        "pvols = []\n",
        "for p in range (2500):  \n",
        "    weights = np.random.random(noa)  \n",
        "    weights /= np.sum(weights)  \n",
        "    prets.append(port_ret(weights))  \n",
        "    pvols.append(port_vol(weights))  \n",
        "prets = np.array(prets)\n",
        "pvols = np.array(pvols)"
      ],
      "execution_count": null,
      "outputs": []
    },
    {
      "cell_type": "code",
      "metadata": {
        "colab": {
          "base_uri": "https://localhost:8080/",
          "height": 387
        },
        "id": "3cHKvPnoPr87",
        "outputId": "77e0fd06-29b5-4d54-a7d9-f2ab327fec69"
      },
      "source": [
        "plt.figure(figsize=(10, 6))\n",
        "plt.scatter(pvols, prets, c=prets / pvols,\n",
        "            marker='o', cmap='coolwarm')\n",
        "plt.xlabel('expected volatility')\n",
        "plt.ylabel('expected return')\n",
        "plt.colorbar(label='Sharpe ratio');\n",
        "# plt.savefig('../../images/ch13/stat_12.png')"
      ],
      "execution_count": null,
      "outputs": [
        {
          "output_type": "display_data",
          "data": {
            "image/png": "[encoded data removed]",
            "text/plain": [
              "<Figure size 720x432 with 2 Axes>"
            ]
          },
          "metadata": {
            "needs_background": "light"
          }
        }
      ]
    },
    {
      "cell_type": "code",
      "metadata": {
        "id": "rqz3y_V4PuRF"
      },
      "source": [
        "\n"
      ],
      "execution_count": null,
      "outputs": []
    },
    {
      "cell_type": "markdown",
      "source": [
        "## Efficient Frontier"
      ],
      "metadata": {
        "id": "BEe8ltr8q3kl"
      }
    },
    {
      "cell_type": "code",
      "source": [
        "# set the return levels from 5% to 15% and find out the minimum variance point\n",
        "trets = np.linspace(0.05, 0.15, 50)\n",
        "# set up the constraint in the optmization model. we assume weights add up to 1\n",
        "cons = ({'type': 'eq', 'fun': lambda x:  port_ret(x) - tret},\n",
        "        {'type': 'eq', 'fun': lambda x:  np.sum(x) - 1})  \n",
        "# set up boundary, each weight is within 0 to 100%.\n",
        "bnds = tuple((0, 1) for x in weights)"
      ],
      "metadata": {
        "id": "HWqbC3Qpq5X7"
      },
      "execution_count": null,
      "outputs": []
    },
    {
      "cell_type": "code",
      "source": [
        "#let's start with four equal weights, because we have only four assets. you can add more assets into this model\n",
        "eweights = np.array(noa * [1. / noa,])\n",
        "eweights"
      ],
      "metadata": {
        "id": "PTVtyCierDQ5",
        "outputId": "53e15d9d-2e2e-4d60-e8fb-494d56582298",
        "colab": {
          "base_uri": "https://localhost:8080/"
        }
      },
      "execution_count": null,
      "outputs": [
        {
          "output_type": "execute_result",
          "data": {
            "text/plain": [
              "array([0.25, 0.25, 0.25, 0.25])"
            ]
          },
          "metadata": {},
          "execution_count": 16
        }
      ]
    },
    {
      "cell_type": "code",
      "source": [
        "%%time\n",
        "tvols = []\n",
        "import scipy.optimize as sco\n",
        "for tret in trets:\n",
        "    res = sco.minimize(port_vol, eweights, method='SLSQP',\n",
        "                       bounds=bnds, constraints=cons)  \n",
        "    tvols.append(res['fun'])\n",
        "tvols = np.array(tvols)"
      ],
      "metadata": {
        "id": "PEmVZAPSrEco",
        "outputId": "f09fdd6a-f7aa-4d3c-9706-98c43804a4a0",
        "colab": {
          "base_uri": "https://localhost:8080/"
        }
      },
      "execution_count": null,
      "outputs": [
        {
          "output_type": "stream",
          "name": "stdout",
          "text": [
            "CPU times: user 4.71 s, sys: 15.2 ms, total: 4.73 s\n",
            "Wall time: 5.49 s\n"
          ]
        }
      ]
    },
    {
      "cell_type": "code",
      "source": [
        "plt.figure(figsize=(10, 6))\n",
        "plt.scatter(pvols, prets, c=prets / pvols,\n",
        "            marker='.', alpha=0.8, cmap='coolwarm')\n",
        "plt.plot(tvols, trets, 'b', lw=4.0)\n",
        "plt.xlabel('expected volatility')\n",
        "plt.ylabel('expected return')\n",
        "plt.colorbar(label='Sharpe ratio')\n",
        "# plt.savefig('../../images/ch13/stat_13.png')"
      ],
      "metadata": {
        "id": "-lxG4xybrGFo",
        "outputId": "79690aad-54f4-41f5-c43a-bb7e4857bd97",
        "colab": {
          "base_uri": "https://localhost:8080/",
          "height": 404
        }
      },
      "execution_count": null,
      "outputs": [
        {
          "output_type": "execute_result",
          "data": {
            "text/plain": [
              "<matplotlib.colorbar.Colorbar at 0x7f6be5a68e10>"
            ]
          },
          "metadata": {},
          "execution_count": 18
        },
        {
          "output_type": "display_data",
          "data": {
            "image/png": "[encoded data removed]",
            "text/plain": [
              "<Figure size 720x432 with 2 Axes>"
            ]
          },
          "metadata": {
            "needs_background": "light"
          }
        }
      ]
    },
    {
      "cell_type": "code",
      "source": [
        ""
      ],
      "metadata": {
        "id": "yjLhBJZlrKOT"
      },
      "execution_count": null,
      "outputs": []
    },
    {
      "cell_type": "markdown",
      "source": [
        "Capital Market Line\n"
      ],
      "metadata": {
        "id": "5rRJq499rbs4"
      }
    },
    {
      "cell_type": "code",
      "source": [
        "import scipy.interpolate as sci"
      ],
      "metadata": {
        "id": "A2qSXZLrrcEy"
      },
      "execution_count": null,
      "outputs": []
    },
    {
      "cell_type": "code",
      "source": [
        "ind = np.argmin(tvols)  \n",
        "evols = tvols[ind:]  \n",
        "erets = trets[ind:]  "
      ],
      "metadata": {
        "id": "wnIS9vfgrdLc"
      },
      "execution_count": null,
      "outputs": []
    },
    {
      "cell_type": "code",
      "source": [
        "tck = sci.splrep(evols, erets)  "
      ],
      "metadata": {
        "id": "jIqEr1xdreKU"
      },
      "execution_count": null,
      "outputs": []
    },
    {
      "cell_type": "markdown",
      "source": [
        "derived is a linear function t(x) = a + b · x representing the line that passes through the riskless asset in risk-return space and that is tangent to the efficient frontier"
      ],
      "metadata": {
        "id": "2QXKioQ2rjXM"
      }
    },
    {
      "cell_type": "code",
      "source": [
        "def f(x):\n",
        "    ''' Efficient frontier function (splines approximation). '''\n",
        "    return sci.splev(x, tck, der=0)\n",
        "def df(x):\n",
        "    ''' First derivative of efficient frontier function. '''\n",
        "    return sci.splev(x, tck, der=1)"
      ],
      "metadata": {
        "id": "M80JZGECrfRV"
      },
      "execution_count": null,
      "outputs": []
    },
    {
      "cell_type": "markdown",
      "source": [
        "Mathematical conditions for capital market line\n",
        "\n",
        "t(x) = a + b · x\n",
        "\n",
        "t(0) = rf ⇔ a = rf\n",
        "\n",
        "t(x) = f (x) ⇔ a + b · x = f (x)\n",
        "\n",
        "t '(x) = f '(x) ⇔ b = f '(x)\n",
        "\n",
        "The equations below describing the capital market line (CML). To this end, define a Python function that returns the values of all three equations given the parameter set p = (a, b, x)"
      ],
      "metadata": {
        "id": "lLsi5AtlriOk"
      }
    },
    {
      "cell_type": "code",
      "source": [
        "def equations(p, rf=0.01):\n",
        "    eq1 = rf - p[0]  \n",
        "    eq2 = rf + p[1] * p[2] - f(p[2])  \n",
        "    eq3 = p[1] - df(p[2])  \n",
        "    return eq1, eq2, eq3"
      ],
      "metadata": {
        "id": "YcUNWIdurlvt"
      },
      "execution_count": null,
      "outputs": []
    },
    {
      "cell_type": "code",
      "source": [
        "opt = sco.fsolve(equations, [0.01, 0.5, 0.15])  "
      ],
      "metadata": {
        "id": "-l0fKTwgrrQi"
      },
      "execution_count": null,
      "outputs": []
    },
    {
      "cell_type": "code",
      "source": [
        "opt  "
      ],
      "metadata": {
        "id": "luEpiwcFrsny",
        "outputId": "381ba296-d92e-4c80-dfc7-e464577cbdce",
        "colab": {
          "base_uri": "https://localhost:8080/"
        }
      },
      "execution_count": null,
      "outputs": [
        {
          "output_type": "execute_result",
          "data": {
            "text/plain": [
              "array([0.01      , 0.73324949, 0.18212053])"
            ]
          },
          "metadata": {},
          "execution_count": 25
        }
      ]
    },
    {
      "cell_type": "code",
      "source": [
        "plt.figure(figsize=(10, 6))\n",
        "plt.scatter(pvols, prets, c=(prets - 0.01) / pvols,\n",
        "            marker='.', cmap='coolwarm')\n",
        "plt.plot(evols, erets, 'b', lw=4.0)\n",
        "cx = np.linspace(0.0, 0.3)\n",
        "plt.plot(cx, opt[0] + opt[1] * cx, 'r', lw=1.5)\n",
        "plt.plot(opt[2], f(opt[2]), 'y*', markersize=15.0) \n",
        "plt.grid(True)\n",
        "plt.axhline(0, color='k', ls='--', lw=2.0)\n",
        "plt.axvline(0, color='k', ls='--', lw=2.0)\n",
        "plt.xlabel('expected volatility')\n",
        "plt.ylabel('expected return')\n",
        "plt.colorbar(label='Sharpe ratio')\n",
        "# plt.savefig('../../images/ch13/stat_14.png')"
      ],
      "metadata": {
        "id": "XMNud6pNrtmS",
        "outputId": "a8c71c81-ed8e-4db3-f42b-2573d62daacf",
        "colab": {
          "base_uri": "https://localhost:8080/",
          "height": 404
        }
      },
      "execution_count": null,
      "outputs": [
        {
          "output_type": "execute_result",
          "data": {
            "text/plain": [
              "<matplotlib.colorbar.Colorbar at 0x7f6be5358b90>"
            ]
          },
          "metadata": {},
          "execution_count": 26
        },
        {
          "output_type": "display_data",
          "data": {
            "image/png": "[encoded data removed]",
            "text/plain": [
              "<Figure size 720x432 with 2 Axes>"
            ]
          },
          "metadata": {
            "needs_background": "light"
          }
        }
      ]
    },
    {
      "cell_type": "code",
      "source": [
        ""
      ],
      "metadata": {
        "id": "RBejbrDyrw4r"
      },
      "execution_count": null,
      "outputs": []
    },
    {
      "cell_type": "markdown",
      "source": [
        "The portfolio weights of the optimal (tangent) portfolio are as follows. Only three of the four assets are in the mix:\n",
        "\n"
      ],
      "metadata": {
        "id": "XeK3WlZRrzdD"
      }
    },
    {
      "cell_type": "code",
      "source": [
        "cons = ({'type': 'eq', 'fun': lambda x:  port_ret(x) - f(opt[2])},\n",
        "        {'type': 'eq', 'fun': lambda x:  np.sum(x) - 1})  \n",
        "res = sco.minimize(port_vol, eweights, method='SLSQP',\n",
        "                   bounds=bnds, constraints=cons)"
      ],
      "metadata": {
        "id": "1Bup0siFrzyt"
      },
      "execution_count": null,
      "outputs": []
    },
    {
      "cell_type": "code",
      "source": [
        "res['x'].round(3)  "
      ],
      "metadata": {
        "id": "rvteArE8r08F",
        "outputId": "e880aeca-c8ef-46fc-f03d-3242abe2e699",
        "colab": {
          "base_uri": "https://localhost:8080/"
        }
      },
      "execution_count": null,
      "outputs": [
        {
          "output_type": "execute_result",
          "data": {
            "text/plain": [
              "array([0.488, 0.191, 0.321, 0.   ])"
            ]
          },
          "metadata": {},
          "execution_count": 28
        }
      ]
    },
    {
      "cell_type": "code",
      "source": [
        "port_ret(res['x'])"
      ],
      "metadata": {
        "id": "-QRfdGWar2Lm",
        "outputId": "02413ab3-f478-4a22-aea0-62250dadb6de",
        "colab": {
          "base_uri": "https://localhost:8080/"
        }
      },
      "execution_count": null,
      "outputs": [
        {
          "output_type": "execute_result",
          "data": {
            "text/plain": [
              "0.14353978547683255"
            ]
          },
          "metadata": {},
          "execution_count": 29
        }
      ]
    },
    {
      "cell_type": "code",
      "source": [
        "port_vol(res['x'])"
      ],
      "metadata": {
        "id": "P3LczLU-r3lH",
        "outputId": "1506fb1f-0e06-4d7e-e488-7d13072f6227",
        "colab": {
          "base_uri": "https://localhost:8080/"
        }
      },
      "execution_count": null,
      "outputs": [
        {
          "output_type": "execute_result",
          "data": {
            "text/plain": [
              "0.1821204669447605"
            ]
          },
          "metadata": {},
          "execution_count": 30
        }
      ]
    },
    {
      "cell_type": "code",
      "source": [
        "port_ret(res['x']) / port_vol(res['x'])"
      ],
      "metadata": {
        "id": "pyIVXyzZr4n3",
        "outputId": "5270ad17-3754-4997-966b-dc3e68917685",
        "colab": {
          "base_uri": "https://localhost:8080/"
        }
      },
      "execution_count": null,
      "outputs": [
        {
          "output_type": "execute_result",
          "data": {
            "text/plain": [
              "0.7881584529451598"
            ]
          },
          "metadata": {},
          "execution_count": 31
        }
      ]
    },
    {
      "cell_type": "code",
      "source": [
        ""
      ],
      "metadata": {
        "id": "VXVyi6Yrr5-f"
      },
      "execution_count": null,
      "outputs": []
    }
  ]
}
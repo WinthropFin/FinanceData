{
  "nbformat": 4,
  "nbformat_minor": 0,
  "metadata": {
    "colab": {
      "name": "Efficient Frontier Illustration.ipynb",
      "provenance": [],
      "authorship_tag": "ABX9TyP775iuw5RayKx0EkbRaelD",
      "include_colab_link": true
    },
    "kernelspec": {
      "name": "python3",
      "display_name": "Python 3"
    }
  },
  "cells": [
    {
      "cell_type": "markdown",
      "metadata": {
        "id": "view-in-github",
        "colab_type": "text"
      },
      "source": [
        "<a href=\"https://colab.research.google.com/github/cozywind2010/WinthropFinance/blob/master/Efficient_Frontier_Illustration.ipynb\" target=\"_parent\"><img src=\"https://colab.research.google.com/assets/colab-badge.svg\" alt=\"Open In Colab\"/></a>"
      ]
    },
    {
      "cell_type": "code",
      "metadata": {
        "colab": {
          "base_uri": "https://localhost:8080/"
        },
        "id": "yLv4aROtOLhF",
        "outputId": "db897cf7-3786-4b2d-fc1d-0b4bf2448654"
      },
      "source": [
        "import math\r\n",
        "import numpy as np\r\n",
        "import scipy.stats as scs\r\n",
        "import statsmodels.api as sm\r\n",
        "import pandas as pd\r\n",
        "from pylab import mpl, plt"
      ],
      "execution_count": 1,
      "outputs": [
        {
          "output_type": "stream",
          "text": [
            "/usr/local/lib/python3.6/dist-packages/statsmodels/tools/_testing.py:19: FutureWarning: pandas.util.testing is deprecated. Use the functions in the public API at pandas.testing instead.\n",
            "  import pandas.util.testing as tm\n"
          ],
          "name": "stderr"
        }
      ]
    },
    {
      "cell_type": "code",
      "metadata": {
        "id": "XJf5vVBlO2Lb"
      },
      "source": [
        "plt.style.use('seaborn')\r\n",
        "mpl.rcParams['font.family'] = 'serif'\r\n",
        "%matplotlib inline"
      ],
      "execution_count": 7,
      "outputs": []
    },
    {
      "cell_type": "code",
      "metadata": {
        "colab": {
          "base_uri": "https://localhost:8080/",
          "height": 35
        },
        "id": "9U9Zv61gPBNp",
        "outputId": "4ea54858-decf-421b-a450-fffe9b3ac959"
      },
      "source": [
        "import os\r\n",
        "os.getcwd()"
      ],
      "execution_count": 9,
      "outputs": [
        {
          "output_type": "execute_result",
          "data": {
            "application/vnd.google.colaboratory.intrinsic+json": {
              "type": "string"
            },
            "text/plain": [
              "'/content'"
            ]
          },
          "metadata": {
            "tags": []
          },
          "execution_count": 9
        }
      ]
    },
    {
      "cell_type": "code",
      "metadata": {
        "colab": {
          "base_uri": "https://localhost:8080/",
          "height": 235
        },
        "id": "lXYzQkToO3vi",
        "outputId": "12f121b8-4850-4bb9-86d9-f1debc7f783c"
      },
      "source": [
        "raw = pd.read_csv('https://raw.githubusercontent.com/cozywind2010/WinthropFinance/master/tr_eikon_eod_data.csv',\r\n",
        "                 index_col=0, parse_dates=True)\r\n",
        "raw.head()"
      ],
      "execution_count": 22,
      "outputs": [
        {
          "output_type": "execute_result",
          "data": {
            "text/html": [
              "<div>\n",
              "<style scoped>\n",
              "    .dataframe tbody tr th:only-of-type {\n",
              "        vertical-align: middle;\n",
              "    }\n",
              "\n",
              "    .dataframe tbody tr th {\n",
              "        vertical-align: top;\n",
              "    }\n",
              "\n",
              "    .dataframe thead th {\n",
              "        text-align: right;\n",
              "    }\n",
              "</style>\n",
              "<table border=\"1\" class=\"dataframe\">\n",
              "  <thead>\n",
              "    <tr style=\"text-align: right;\">\n",
              "      <th></th>\n",
              "      <th>AAPL.O</th>\n",
              "      <th>MSFT.O</th>\n",
              "      <th>INTC.O</th>\n",
              "      <th>AMZN.O</th>\n",
              "      <th>GS.N</th>\n",
              "      <th>SPY</th>\n",
              "      <th>.SPX</th>\n",
              "      <th>.VIX</th>\n",
              "      <th>EUR=</th>\n",
              "      <th>XAU=</th>\n",
              "      <th>GDX</th>\n",
              "      <th>GLD</th>\n",
              "    </tr>\n",
              "    <tr>\n",
              "      <th>Date</th>\n",
              "      <th></th>\n",
              "      <th></th>\n",
              "      <th></th>\n",
              "      <th></th>\n",
              "      <th></th>\n",
              "      <th></th>\n",
              "      <th></th>\n",
              "      <th></th>\n",
              "      <th></th>\n",
              "      <th></th>\n",
              "      <th></th>\n",
              "      <th></th>\n",
              "    </tr>\n",
              "  </thead>\n",
              "  <tbody>\n",
              "    <tr>\n",
              "      <th>2010-01-01</th>\n",
              "      <td>NaN</td>\n",
              "      <td>NaN</td>\n",
              "      <td>NaN</td>\n",
              "      <td>NaN</td>\n",
              "      <td>NaN</td>\n",
              "      <td>NaN</td>\n",
              "      <td>NaN</td>\n",
              "      <td>NaN</td>\n",
              "      <td>1.4323</td>\n",
              "      <td>1096.35</td>\n",
              "      <td>NaN</td>\n",
              "      <td>NaN</td>\n",
              "    </tr>\n",
              "    <tr>\n",
              "      <th>2010-01-04</th>\n",
              "      <td>30.572827</td>\n",
              "      <td>30.950</td>\n",
              "      <td>20.88</td>\n",
              "      <td>133.90</td>\n",
              "      <td>173.08</td>\n",
              "      <td>113.33</td>\n",
              "      <td>1132.99</td>\n",
              "      <td>20.04</td>\n",
              "      <td>1.4411</td>\n",
              "      <td>1120.00</td>\n",
              "      <td>47.71</td>\n",
              "      <td>109.80</td>\n",
              "    </tr>\n",
              "    <tr>\n",
              "      <th>2010-01-05</th>\n",
              "      <td>30.625684</td>\n",
              "      <td>30.960</td>\n",
              "      <td>20.87</td>\n",
              "      <td>134.69</td>\n",
              "      <td>176.14</td>\n",
              "      <td>113.63</td>\n",
              "      <td>1136.52</td>\n",
              "      <td>19.35</td>\n",
              "      <td>1.4368</td>\n",
              "      <td>1118.65</td>\n",
              "      <td>48.17</td>\n",
              "      <td>109.70</td>\n",
              "    </tr>\n",
              "    <tr>\n",
              "      <th>2010-01-06</th>\n",
              "      <td>30.138541</td>\n",
              "      <td>30.770</td>\n",
              "      <td>20.80</td>\n",
              "      <td>132.25</td>\n",
              "      <td>174.26</td>\n",
              "      <td>113.71</td>\n",
              "      <td>1137.14</td>\n",
              "      <td>19.16</td>\n",
              "      <td>1.4412</td>\n",
              "      <td>1138.50</td>\n",
              "      <td>49.34</td>\n",
              "      <td>111.51</td>\n",
              "    </tr>\n",
              "    <tr>\n",
              "      <th>2010-01-07</th>\n",
              "      <td>30.082827</td>\n",
              "      <td>30.452</td>\n",
              "      <td>20.60</td>\n",
              "      <td>130.00</td>\n",
              "      <td>177.67</td>\n",
              "      <td>114.19</td>\n",
              "      <td>1141.69</td>\n",
              "      <td>19.06</td>\n",
              "      <td>1.4318</td>\n",
              "      <td>1131.90</td>\n",
              "      <td>49.10</td>\n",
              "      <td>110.82</td>\n",
              "    </tr>\n",
              "  </tbody>\n",
              "</table>\n",
              "</div>"
            ],
            "text/plain": [
              "               AAPL.O  MSFT.O  INTC.O  AMZN.O  ...    EUR=     XAU=    GDX     GLD\n",
              "Date                                           ...                                \n",
              "2010-01-01        NaN     NaN     NaN     NaN  ...  1.4323  1096.35    NaN     NaN\n",
              "2010-01-04  30.572827  30.950   20.88  133.90  ...  1.4411  1120.00  47.71  109.80\n",
              "2010-01-05  30.625684  30.960   20.87  134.69  ...  1.4368  1118.65  48.17  109.70\n",
              "2010-01-06  30.138541  30.770   20.80  132.25  ...  1.4412  1138.50  49.34  111.51\n",
              "2010-01-07  30.082827  30.452   20.60  130.00  ...  1.4318  1131.90  49.10  110.82\n",
              "\n",
              "[5 rows x 12 columns]"
            ]
          },
          "metadata": {
            "tags": []
          },
          "execution_count": 22
        }
      ]
    },
    {
      "cell_type": "code",
      "metadata": {
        "colab": {
          "base_uri": "https://localhost:8080/",
          "height": 583
        },
        "id": "kdB1hX0WO4zC",
        "outputId": "9e4a8c84-4e0d-451e-a7c3-80719d1efaa9"
      },
      "source": [
        "symbols = ['AAPL.O', 'MSFT.O', 'SPY', 'GLD']\r\n",
        "noa = len(symbols)\r\n",
        "data = raw[symbols]\r\n",
        "rets = np.log(data / data.shift(1))\r\n",
        "rets.hist(bins=40, figsize=(10, 8)) "
      ],
      "execution_count": 13,
      "outputs": [
        {
          "output_type": "execute_result",
          "data": {
            "text/plain": [
              "array([[<matplotlib.axes._subplots.AxesSubplot object at 0x7fcf367f42e8>,\n",
              "        <matplotlib.axes._subplots.AxesSubplot object at 0x7fcf367c5978>],\n",
              "       [<matplotlib.axes._subplots.AxesSubplot object at 0x7fcf36776fd0>,\n",
              "        <matplotlib.axes._subplots.AxesSubplot object at 0x7fcf3672e668>]],\n",
              "      dtype=object)"
            ]
          },
          "metadata": {
            "tags": []
          },
          "execution_count": 13
        },
        {
          "output_type": "display_data",
          "data": {
            "image/png": "[encoded data removed]",
            "text/plain": [
              "<Figure size 720x576 with 4 Axes>"
            ]
          },
          "metadata": {
            "tags": [],
            "needs_background": "light"
          }
        }
      ]
    },
    {
      "cell_type": "code",
      "metadata": {
        "colab": {
          "base_uri": "https://localhost:8080/"
        },
        "id": "EWxN7G3LPbJT",
        "outputId": "7d840ded-2bdf-4fb0-c8a6-e14e7c674416"
      },
      "source": [
        "rets.mean() * 252"
      ],
      "execution_count": 14,
      "outputs": [
        {
          "output_type": "execute_result",
          "data": {
            "text/plain": [
              "AAPL.O    0.181303\n",
              "MSFT.O    0.124840\n",
              "SPY       0.097286\n",
              "GLD      -0.003784\n",
              "dtype: float64"
            ]
          },
          "metadata": {
            "tags": []
          },
          "execution_count": 14
        }
      ]
    },
    {
      "cell_type": "code",
      "metadata": {
        "colab": {
          "base_uri": "https://localhost:8080/",
          "height": 173
        },
        "id": "5fG4DKpbPg6W",
        "outputId": "938d982b-bc4a-4be2-e1c4-88ea81315392"
      },
      "source": [
        "rets.cov() * 252"
      ],
      "execution_count": 15,
      "outputs": [
        {
          "output_type": "execute_result",
          "data": {
            "text/html": [
              "<div>\n",
              "<style scoped>\n",
              "    .dataframe tbody tr th:only-of-type {\n",
              "        vertical-align: middle;\n",
              "    }\n",
              "\n",
              "    .dataframe tbody tr th {\n",
              "        vertical-align: top;\n",
              "    }\n",
              "\n",
              "    .dataframe thead th {\n",
              "        text-align: right;\n",
              "    }\n",
              "</style>\n",
              "<table border=\"1\" class=\"dataframe\">\n",
              "  <thead>\n",
              "    <tr style=\"text-align: right;\">\n",
              "      <th></th>\n",
              "      <th>AAPL.O</th>\n",
              "      <th>MSFT.O</th>\n",
              "      <th>SPY</th>\n",
              "      <th>GLD</th>\n",
              "    </tr>\n",
              "  </thead>\n",
              "  <tbody>\n",
              "    <tr>\n",
              "      <th>AAPL.O</th>\n",
              "      <td>0.064034</td>\n",
              "      <td>0.023656</td>\n",
              "      <td>0.021154</td>\n",
              "      <td>0.001428</td>\n",
              "    </tr>\n",
              "    <tr>\n",
              "      <th>MSFT.O</th>\n",
              "      <td>0.023656</td>\n",
              "      <td>0.051211</td>\n",
              "      <td>0.022390</td>\n",
              "      <td>-0.000370</td>\n",
              "    </tr>\n",
              "    <tr>\n",
              "      <th>SPY</th>\n",
              "      <td>0.021154</td>\n",
              "      <td>0.022390</td>\n",
              "      <td>0.022049</td>\n",
              "      <td>0.000108</td>\n",
              "    </tr>\n",
              "    <tr>\n",
              "      <th>GLD</th>\n",
              "      <td>0.001428</td>\n",
              "      <td>-0.000370</td>\n",
              "      <td>0.000108</td>\n",
              "      <td>0.025945</td>\n",
              "    </tr>\n",
              "  </tbody>\n",
              "</table>\n",
              "</div>"
            ],
            "text/plain": [
              "          AAPL.O    MSFT.O       SPY       GLD\n",
              "AAPL.O  0.064034  0.023656  0.021154  0.001428\n",
              "MSFT.O  0.023656  0.051211  0.022390 -0.000370\n",
              "SPY     0.021154  0.022390  0.022049  0.000108\n",
              "GLD     0.001428 -0.000370  0.000108  0.025945"
            ]
          },
          "metadata": {
            "tags": []
          },
          "execution_count": 15
        }
      ]
    },
    {
      "cell_type": "code",
      "metadata": {
        "colab": {
          "base_uri": "https://localhost:8080/"
        },
        "id": "FrJDZyg2PhxO",
        "outputId": "16a440cd-b375-4aa1-bca1-9e584ceab5d5"
      },
      "source": [
        "weights = np.random.random(noa)  \r\n",
        "weights /= np.sum(weights) \r\n",
        "weights"
      ],
      "execution_count": 16,
      "outputs": [
        {
          "output_type": "execute_result",
          "data": {
            "text/plain": [
              "array([0.3479481 , 0.04470443, 0.15122035, 0.45612712])"
            ]
          },
          "metadata": {
            "tags": []
          },
          "execution_count": 16
        }
      ]
    },
    {
      "cell_type": "code",
      "metadata": {
        "colab": {
          "base_uri": "https://localhost:8080/"
        },
        "id": "rH8QFjZVPi5X",
        "outputId": "91730911-6a72-41ae-f3e6-58b41e06570d"
      },
      "source": [
        "weights.sum()"
      ],
      "execution_count": 17,
      "outputs": [
        {
          "output_type": "execute_result",
          "data": {
            "text/plain": [
              "1.0"
            ]
          },
          "metadata": {
            "tags": []
          },
          "execution_count": 17
        }
      ]
    },
    {
      "cell_type": "code",
      "metadata": {
        "id": "0AdcKMQ0PltY"
      },
      "source": [
        "def port_ret(weights):\r\n",
        "    return np.sum(rets.mean() * weights) * 252"
      ],
      "execution_count": 18,
      "outputs": []
    },
    {
      "cell_type": "code",
      "metadata": {
        "id": "0dQ-2nH9PnvR"
      },
      "source": [
        "def port_vol(weights):\r\n",
        "    return np.sqrt(np.dot(weights.T, np.dot(rets.cov() * 252, weights)))"
      ],
      "execution_count": 19,
      "outputs": []
    },
    {
      "cell_type": "code",
      "metadata": {
        "id": "O6B0QeV3PpH6"
      },
      "source": [
        "prets = []\r\n",
        "pvols = []\r\n",
        "for p in range (2500):  \r\n",
        "    weights = np.random.random(noa)  \r\n",
        "    weights /= np.sum(weights)  \r\n",
        "    prets.append(port_ret(weights))  \r\n",
        "    pvols.append(port_vol(weights))  \r\n",
        "prets = np.array(prets)\r\n",
        "pvols = np.array(pvols)"
      ],
      "execution_count": 20,
      "outputs": []
    },
    {
      "cell_type": "code",
      "metadata": {
        "colab": {
          "base_uri": "https://localhost:8080/",
          "height": 387
        },
        "id": "3cHKvPnoPr87",
        "outputId": "47e54600-9697-4752-d815-470b4cf4452e"
      },
      "source": [
        "plt.figure(figsize=(10, 6))\r\n",
        "plt.scatter(pvols, prets, c=prets / pvols,\r\n",
        "            marker='o', cmap='coolwarm')\r\n",
        "plt.xlabel('expected volatility')\r\n",
        "plt.ylabel('expected return')\r\n",
        "plt.colorbar(label='Sharpe ratio');\r\n",
        "# plt.savefig('../../images/ch13/stat_12.png')"
      ],
      "execution_count": 21,
      "outputs": [
        {
          "output_type": "display_data",
          "data": {
            "image/png": "[encoded data removed]",
            "text/plain": [
              "<Figure size 720x432 with 2 Axes>"
            ]
          },
          "metadata": {
            "tags": [],
            "needs_background": "light"
          }
        }
      ]
    },
    {
      "cell_type": "code",
      "metadata": {
        "id": "rqz3y_V4PuRF"
      },
      "source": [
        ""
      ],
      "execution_count": null,
      "outputs": []
    }
  ]
}
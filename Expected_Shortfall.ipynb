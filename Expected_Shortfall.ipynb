{
  "nbformat": 4,
  "nbformat_minor": 0,
  "metadata": {
    "colab": {
      "name": "Expected Shortfall.ipynb",
      "provenance": [],
      "authorship_tag": "ABX9TyOmFh57fWc1YmUkzF1y6yGY",
      "include_colab_link": true
    },
    "kernelspec": {
      "name": "python3",
      "display_name": "Python 3"
    },
    "language_info": {
      "name": "python"
    }
  },
  "cells": [
    {
      "cell_type": "markdown",
      "metadata": {
        "id": "view-in-github",
        "colab_type": "text"
      },
      "source": [
        "<a href=\"https://colab.research.google.com/github/WinthropFin/WinthropFinance/blob/master/Expected_Shortfall.ipynb\" target=\"_parent\"><img src=\"https://colab.research.google.com/assets/colab-badge.svg\" alt=\"Open In Colab\"/></a>"
      ]
    },
    {
      "cell_type": "code",
      "execution_count": 7,
      "metadata": {
        "colab": {
          "base_uri": "https://localhost:8080/"
        },
        "id": "aZlwn-46XhRL",
        "outputId": "6b87a116-f063-4a98-ef68-48d2e08dab1c"
      },
      "outputs": [
        {
          "output_type": "stream",
          "name": "stdout",
          "text": [
            "99% VaR is 3.9\n"
          ]
        }
      ],
      "source": [
        "from scipy.stats import norm\n",
        "import numpy as np\n",
        "h = 10. # horizon of 10 days\n",
        "mu_h = 0.1 # this is the mean of % returns over 10 days - 10%\n",
        "sig = 0.3 # this is the vol of returns over a year - 30%\n",
        "sig_h = 0.3 * np.sqrt(h/252) # this is the vol over the horizon\n",
        "alpha = 0.01\n",
        "\n",
        "VaR_n = norm.ppf(1-alpha)*sig_h - mu_h \n",
        "\n",
        "print(\"99% VaR is\", round(VaR_n*100,2))"
      ]
    },
    {
      "cell_type": "code",
      "source": [
        "# with the same parameters as above\n",
        "CVaR_n = alpha**-1 * norm.pdf(norm.ppf(alpha))*sig_h - mu_h\n",
        "\n",
        "print(\"99% CVaR/ES is\", round(CVaR_n*100,2))"
      ],
      "metadata": {
        "colab": {
          "base_uri": "https://localhost:8080/"
        },
        "id": "qZKWqvHeXlpv",
        "outputId": "dc62b2c4-8fee-4d37-c908-d207b7a5ddea"
      },
      "execution_count": 8,
      "outputs": [
        {
          "output_type": "stream",
          "name": "stdout",
          "text": [
            "99% CVaR/ES is 5.93\n"
          ]
        }
      ]
    },
    {
      "cell_type": "code",
      "source": [
        "norm.ppf(0.01)"
      ],
      "metadata": {
        "colab": {
          "base_uri": "https://localhost:8080/"
        },
        "id": "EzHxm6G9YLd4",
        "outputId": "73f9e9ba-2cca-4b7d-90e4-e84dc7c527aa"
      },
      "execution_count": 9,
      "outputs": [
        {
          "output_type": "execute_result",
          "data": {
            "text/plain": [
              "-2.3263478740408408"
            ]
          },
          "metadata": {},
          "execution_count": 9
        }
      ]
    },
    {
      "cell_type": "code",
      "source": [
        "norm.pdf(norm.ppf(0.01))"
      ],
      "metadata": {
        "colab": {
          "base_uri": "https://localhost:8080/"
        },
        "id": "-FY7ZO0CY7wW",
        "outputId": "584ecf7d-4a19-4897-ecdf-9effaf471338"
      },
      "execution_count": 10,
      "outputs": [
        {
          "output_type": "execute_result",
          "data": {
            "text/plain": [
              "0.02665214220345808"
            ]
          },
          "metadata": {},
          "execution_count": 10
        }
      ]
    },
    {
      "cell_type": "code",
      "source": [
        "from scipy.stats import t\n",
        "nu = 5 # degree of freedom, the larger, the closer to normal distribution\n",
        "xanu = t.ppf(alpha, nu)\n",
        "\n",
        "VaR_t = np.sqrt(h/252 * (nu-2)/nu) * t.ppf(1-alpha, nu)*sig - mu_h\n",
        "\n",
        "print(\"99% VaR (Student-t with v=5) is\", round(VaR_t*100,2))\n",
        "# Out:\n",
        "# 99% VaR (Student-t with v=5) is 5.58\n",
        "CVaR_t = -1/alpha * (1-nu)**(-1) * (nu-2+xanu**2) * t.pdf(xanu, nu)*sig_h - mu_h\n",
        "print(\"99% CVaR (Student-t with v=5) is\", round(CVaR_t*100,2))\n",
        "# Out:\n",
        "# 99% CVaR (Student-t with v=5) is 13.35"
      ],
      "metadata": {
        "colab": {
          "base_uri": "https://localhost:8080/"
        },
        "id": "I5HRvF7XY-TW",
        "outputId": "d620b747-73c6-4014-c190-096017bc72a5"
      },
      "execution_count": 11,
      "outputs": [
        {
          "output_type": "stream",
          "name": "stdout",
          "text": [
            "99% VaR (Student-t with v=5) is 5.58\n",
            "99% CVaR (Student-t with v=5) is 13.35\n"
          ]
        }
      ]
    },
    {
      "cell_type": "code",
      "source": [
        ""
      ],
      "metadata": {
        "id": "ZLME21oyZeI7"
      },
      "execution_count": null,
      "outputs": []
    }
  ]
}